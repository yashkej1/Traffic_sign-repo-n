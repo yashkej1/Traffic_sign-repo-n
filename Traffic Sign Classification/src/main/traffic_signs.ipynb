{
 "cells": [
  {
   "cell_type": "code",
   "execution_count": 1,
   "metadata": {},
   "outputs": [],
   "source": [
    "import numpy as np \n",
    "import pandas as pd \n",
    "import matplotlib.pyplot as plt\n",
    "import cv2\n",
    "import tensorflow as tf\n",
    "from PIL import Image\n",
    "import os\n",
    "from sklearn.model_selection import train_test_split\n",
    "from tensorflow.keras.utils import to_categorical\n",
    "from keras.models import Sequential, load_model\n",
    "from keras.layers import Conv2D, MaxPool2D, Dense, Flatten, Dropout"
   ]
  },
  {
   "cell_type": "code",
   "execution_count": 2,
   "metadata": {},
   "outputs": [],
   "source": [
    "data = []\n",
    "labels = []\n",
    "classes = 43\n",
    "cur_path = os.getcwd()\n",
    "\n",
    "for i in range(classes):\n",
    "    path = os.path.join(cur_path,'train',str(i))\n",
    "    images = os.listdir(path)\n",
    "   \n",
    "\n",
    "    for j in images:\n",
    "        try:\n",
    "            image = Image.open(path + '\\\\'+ j)\n",
    "            image = image.resize((30,30))\n",
    "            image = np.array(image)\n",
    "            data.append(image)\n",
    "            labels.append(i)\n",
    "        except:\n",
    "            print(\"Error loading image\")"
   ]
  },
  {
   "cell_type": "code",
   "execution_count": 3,
   "metadata": {},
   "outputs": [
    {
     "name": "stdout",
     "output_type": "stream",
     "text": [
      "(39209, 30, 30, 3) (39209,)\n"
     ]
    }
   ],
   "source": [
    "data = np.array(data)\n",
    "labels = np.array(labels)\n",
    "print(data.shape, labels.shape)"
   ]
  },
  {
   "cell_type": "code",
   "execution_count": 4,
   "metadata": {},
   "outputs": [
    {
     "name": "stdout",
     "output_type": "stream",
     "text": [
      "(31367, 30, 30, 3) (7842, 30, 30, 3) (31367,) (7842,)\n"
     ]
    }
   ],
   "source": [
    "X_train, X_test, y_train, y_test = train_test_split(data, labels, test_size=0.2, random_state=42)\n",
    "print(X_train.shape, X_test.shape, y_train.shape, y_test.shape)\n",
    "y_train = to_categorical(y_train, 43)\n",
    "y_test = to_categorical(y_test, 43)"
   ]
  },
  {
   "cell_type": "code",
   "execution_count": 5,
   "metadata": {},
   "outputs": [],
   "source": [
    "model = Sequential()\n",
    "model.add(Conv2D(filters=32, kernel_size=(5,5), activation='relu', input_shape=X_train.shape[1:]))\n",
    "model.add(Conv2D(filters=32, kernel_size=(5,5), activation='relu'))\n",
    "model.add(MaxPool2D(pool_size=(2, 2)))\n",
    "model.add(Dropout(rate=0.25))\n",
    "model.add(Conv2D(filters=64, kernel_size=(3, 3), activation='relu'))\n",
    "model.add(Conv2D(filters=64, kernel_size=(3, 3), activation='relu'))\n",
    "model.add(MaxPool2D(pool_size=(2, 2)))\n",
    "model.add(Dropout(rate=0.25))\n",
    "model.add(Flatten())\n",
    "model.add(Dense(256, activation='relu'))\n",
    "model.add(Dropout(rate=0.5))\n",
    "model.add(Dense(43, activation='softmax'))\n",
    "\n",
    "model.compile(loss='categorical_crossentropy', optimizer='adam', metrics=['accuracy'])"
   ]
  },
  {
   "cell_type": "code",
   "execution_count": 6,
   "metadata": {},
   "outputs": [
    {
     "name": "stdout",
     "output_type": "stream",
     "text": [
      "Epoch 1/15\n",
      "981/981 [==============================] - 123s 124ms/step - loss: 2.7052 - accuracy: 0.3161 - val_loss: 1.0427 - val_accuracy: 0.7391\n",
      "Epoch 2/15\n",
      "981/981 [==============================] - 109s 111ms/step - loss: 1.1328 - accuracy: 0.6645 - val_loss: 0.4681 - val_accuracy: 0.8718\n",
      "Epoch 3/15\n",
      "981/981 [==============================] - 122s 124ms/step - loss: 0.6890 - accuracy: 0.7926 - val_loss: 0.2466 - val_accuracy: 0.9322\n",
      "Epoch 4/15\n",
      "981/981 [==============================] - 127s 129ms/step - loss: 0.5128 - accuracy: 0.8465 - val_loss: 0.2014 - val_accuracy: 0.9378\n",
      "Epoch 5/15\n",
      "981/981 [==============================] - 129s 132ms/step - loss: 0.4104 - accuracy: 0.8787 - val_loss: 0.2596 - val_accuracy: 0.9185\n",
      "Epoch 6/15\n",
      "981/981 [==============================] - 127s 129ms/step - loss: 0.3710 - accuracy: 0.8920 - val_loss: 0.1425 - val_accuracy: 0.9572\n",
      "Epoch 7/15\n",
      "981/981 [==============================] - 128s 130ms/step - loss: 0.3460 - accuracy: 0.9014 - val_loss: 0.1094 - val_accuracy: 0.9668\n",
      "Epoch 8/15\n",
      "981/981 [==============================] - 105s 107ms/step - loss: 0.3199 - accuracy: 0.9058 - val_loss: 0.1124 - val_accuracy: 0.9682\n",
      "Epoch 9/15\n",
      "981/981 [==============================] - 104s 106ms/step - loss: 0.3043 - accuracy: 0.9140 - val_loss: 0.1026 - val_accuracy: 0.9694\n",
      "Epoch 10/15\n",
      "981/981 [==============================] - 104s 106ms/step - loss: 0.2930 - accuracy: 0.9146 - val_loss: 0.0934 - val_accuracy: 0.9732\n",
      "Epoch 11/15\n",
      "981/981 [==============================] - 104s 106ms/step - loss: 0.2631 - accuracy: 0.9241 - val_loss: 0.0887 - val_accuracy: 0.9730\n",
      "Epoch 12/15\n",
      "981/981 [==============================] - 106s 108ms/step - loss: 0.2826 - accuracy: 0.9202 - val_loss: 0.0750 - val_accuracy: 0.9793\n",
      "Epoch 13/15\n",
      "981/981 [==============================] - 116s 118ms/step - loss: 0.2733 - accuracy: 0.9263 - val_loss: 0.0613 - val_accuracy: 0.9846\n",
      "Epoch 14/15\n",
      "981/981 [==============================] - 117s 119ms/step - loss: 0.2637 - accuracy: 0.9259 - val_loss: 0.0692 - val_accuracy: 0.9778\n",
      "Epoch 15/15\n",
      "981/981 [==============================] - 111s 113ms/step - loss: 0.2650 - accuracy: 0.9258 - val_loss: 0.0813 - val_accuracy: 0.9750\n"
     ]
    }
   ],
   "source": [
    "epochs = 15\n",
    "history = model.fit(X_train, y_train, batch_size=32, epochs=epochs, validation_data=(X_test, y_test))"
   ]
  },
  {
   "cell_type": "code",
   "execution_count": 7,
   "metadata": {},
   "outputs": [
    {
     "data": {
      "image/png": "[encoded data removed]",
      "text/plain": [
       "<Figure size 432x288 with 1 Axes>"
      ]
     },
     "metadata": {
      "needs_background": "light"
     },
     "output_type": "display_data"
    },
    {
     "data": {
      "image/png": "[encoded data removed]",
      "text/plain": [
       "<Figure size 432x288 with 1 Axes>"
      ]
     },
     "metadata": {
      "needs_background": "light"
     },
     "output_type": "display_data"
    }
   ],
   "source": [
    "plt.figure(0)\n",
    "plt.plot(history.history['accuracy'], label='training accuracy')\n",
    "plt.plot(history.history['val_accuracy'], label='val accuracy')\n",
    "plt.title('Accuracy')\n",
    "plt.xlabel('epochs')\n",
    "plt.ylabel('accuracy')\n",
    "plt.legend()\n",
    "plt.show()\n",
    "\n",
    "plt.figure(1)\n",
    "plt.plot(history.history['loss'], label='training loss')\n",
    "plt.plot(history.history['val_loss'], label='val loss')\n",
    "plt.title('Loss')\n",
    "plt.xlabel('epochs')\n",
    "plt.ylabel('loss')\n",
    "plt.legend()\n",
    "plt.show()\n"
   ]
  },
  {
   "cell_type": "code",
   "execution_count": 8,
   "metadata": {},
   "outputs": [
    {
     "name": "stdout",
     "output_type": "stream",
     "text": [
      "0.9382422802850356\n"
     ]
    }
   ],
   "source": [
    "from sklearn.metrics import accuracy_score\n",
    "\n",
    "y_test = pd.read_csv('Test.csv')\n",
    "\n",
    "labels = y_test[\"ClassId\"].values\n",
    "imgs = y_test[\"Path\"].values\n",
    "\n",
    "data=[]\n",
    "\n",
    "for img in imgs:\n",
    "    image = Image.open(img)\n",
    "    image = image.resize((30,30))\n",
    "    data.append(np.array(image))\n",
    "\n",
    "X_test=np.array(data)\n",
    "\n",
    "pred = model.predict(X_test)\n",
    "clas=np.argmax(pred,axis=1)\n",
    "\n",
    "from sklearn.metrics import accuracy_score\n",
    "print(accuracy_score(labels, clas))"
   ]
  },
  {
   "cell_type": "code",
   "execution_count": 18,
   "metadata": {},
   "outputs": [],
   "source": [
    "model.save(\"my_model.h5\")"
   ]
  }
 ],
 "metadata": {
  "interpreter": {
   "hash": "cbc1630f6ac27d00c9f4ea5ff59d07a3d2920d2fb3e683b05679c37215caa53f"
  },
  "kernelspec": {
   "display_name": "Python 3.7.6 64-bit",
   "name": "python3"
  },
  "language_info": {
   "codemirror_mode": {
    "name": "ipython",
    "version": 3
   },
   "file_extension": ".py",
   "mimetype": "text/x-python",
   "name": "python",
   "nbconvert_exporter": "python",
   "pygments_lexer": "ipython3",
   "version": "3.7.6"
  },
  "orig_nbformat": 4
 },
 "nbformat": 4,
 "nbformat_minor": 2
}
